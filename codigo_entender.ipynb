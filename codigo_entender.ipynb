{
 "cells": [
  {
   "cell_type": "markdown",
   "metadata": {},
   "source": [
    "# Archivo entender"
   ]
  },
  {
   "cell_type": "code",
   "execution_count": 19,
   "metadata": {},
   "outputs": [],
   "source": [
    "import numpy as np\n",
    "import matplotlib.pyplot as plt\n",
    "import pandas as pd\n",
    "import os\n",
    "from scipy.signal import savgol_filter"
   ]
  },
  {
   "cell_type": "markdown",
   "metadata": {},
   "source": [
    "Llama a la carpeta que quiere leer. Luego utiliza el paquete os para leer los archivos dentro de la carpera 'rime'. Imprime los archivos"
   ]
  },
  {
   "cell_type": "code",
   "execution_count": 3,
   "metadata": {},
   "outputs": [
    {
     "name": "stdout",
     "output_type": "stream",
     "text": [
      "['P2,3 en IWT-70ms_4A.20200421112931.txt', 'P2,3 en IWT-70ms_4B.20200421110132.txt', 'P2,3 en IWT-70ms_4C.20200420141301.txt', 'P2,3 en IWT-70ms_5A.20200421112023.txt', 'P2,3 en IWT-70ms_5B.20200420143231.txt', 'P2,3 en IWT-70ms_5C.20200420140238.txt', 'P2,3 en IWT-70ms_6A.20200421111056.txt', 'P2,3 en IWT-70ms_6B.20200420142309.txt', 'P2,3 en IWT-70ms_6C.20200420135051.txt']\n"
     ]
    }
   ],
   "source": [
    "nombre_carpeta='rime'\n",
    "archivos = os.listdir(nombre_carpeta)\n",
    "print(archivos)"
   ]
  },
  {
   "cell_type": "markdown",
   "metadata": {},
   "source": [
    "Un diccionario es una lista pero que en vez de acceder a elementos con numeros se accede con letras / caracteres."
   ]
  },
  {
   "cell_type": "code",
   "execution_count": 4,
   "metadata": {},
   "outputs": [
    {
     "name": "stdout",
     "output_type": "stream",
     "text": [
      "5\n"
     ]
    }
   ],
   "source": [
    "dic={'Miguel':4,'Javi':10}\n",
    "\n",
    "dic.update({'Ramiro':5})\n",
    "print(dic['Ramiro'])"
   ]
  },
  {
   "cell_type": "code",
   "execution_count": 6,
   "metadata": {},
   "outputs": [
    {
     "name": "stdout",
     "output_type": "stream",
     "text": [
      "                     Timestamp  S-int-1  S-int-2  S-int-3  S-int-4  S-int-5  \\\n",
      "0.0  21/04/2020 11:29:32.80318  -13.284  -11.492  -11.271  -11.477  -10.871   \n",
      "0.5  21/04/2020 11:29:33.00318  -13.210  -11.464  -10.977  -11.425  -11.016   \n",
      "1.0  21/04/2020 11:29:33.20318  -13.167  -11.637  -11.318  -11.485  -10.993   \n",
      "1.5  21/04/2020 11:29:33.40318  -13.062  -11.564  -11.003  -11.373  -10.750   \n",
      "2.0  21/04/2020 11:29:33.60318  -13.104  -11.456  -11.404  -11.589  -11.030   \n",
      "\n",
      "     S-int-6  S-int-7  S-ext-3  S-ext-4  ...  FBG_B4 (nm)  Level (db).8  \\\n",
      "0.0  -10.647  -11.678  -14.631  -14.219  ...   1529.30428        -32.86   \n",
      "0.5  -10.610  -11.531  -14.382  -14.323  ...   1529.30331        -32.90   \n",
      "1.0  -10.729  -11.529  -14.375  -14.110  ...   1529.30527        -32.65   \n",
      "1.5  -10.640  -11.671  -14.311  -14.057  ...   1529.30576        -32.52   \n",
      "2.0  -10.838  -11.610  -14.549  -14.204  ...   1529.30442        -32.78   \n",
      "\n",
      "     FBG_B5 (nm)  Level (db).9  FBG_B6 (nm)  Level (db).10  FBG_B7 (nm)  \\\n",
      "0.0   1532.31070        -32.50   1535.28024         -31.96   1538.29251   \n",
      "0.5   1532.31259        -32.63   1535.28108         -32.15   1538.29400   \n",
      "1.0   1532.31339        -32.54   1535.27992         -31.99   1538.29322   \n",
      "1.5   1532.31250        -32.61   1535.28170         -31.88   1538.29202   \n",
      "2.0   1532.31176        -32.47   1535.27890         -32.02   1538.29402   \n",
      "\n",
      "     Level (db).11  FBG_C1 (nm)  Level (db).12  \n",
      "0.0         -31.10   1539.29491         -27.70  \n",
      "0.5         -31.15   1539.29638         -27.55  \n",
      "1.0         -31.25   1539.29856         -27.64  \n",
      "1.5         -31.23   1539.29565         -27.54  \n",
      "2.0         -31.27   1539.29684         -27.65  \n",
      "\n",
      "[5 rows x 40 columns]\n",
      "                     Timestamp  S-int-1  S-int-2  S-int-3  S-int-4  S-int-5  \\\n",
      "0.0  21/04/2020 11:01:33.39083  -13.592  -11.950  -11.645  -12.007  -11.614   \n",
      "0.5  21/04/2020 11:01:33.59083  -13.720  -11.773  -11.660  -11.992  -11.773   \n",
      "1.0  21/04/2020 11:01:33.79083  -13.852  -12.011  -11.670  -11.883  -11.771   \n",
      "1.5  21/04/2020 11:01:33.99083  -13.645  -11.895  -11.526  -12.007  -11.513   \n",
      "2.0  21/04/2020 11:01:34.19083  -13.669  -11.845  -11.822  -12.040  -11.902   \n",
      "\n",
      "     S-int-6  S-int-7  S-ext-3  S-ext-4  ...  FBG_B4 (nm)  Level (db).8  \\\n",
      "0.0  -11.357  -12.435  -14.332  -14.181  ...   1529.30462        -32.78   \n",
      "0.5  -11.494  -12.234  -14.297  -14.169  ...   1529.30474        -32.88   \n",
      "1.0  -11.472  -12.298  -14.201  -14.180  ...   1529.30463        -32.72   \n",
      "1.5  -11.637  -12.316  -14.330  -14.125  ...   1529.30514        -32.64   \n",
      "2.0  -11.568  -12.342  -14.470  -14.284  ...   1529.30367        -32.65   \n",
      "\n",
      "     FBG_B5 (nm)  Level (db).9  FBG_B6 (nm)  Level (db).10  FBG_B7 (nm)  \\\n",
      "0.0   1532.31133        -32.42   1535.28144         -32.15   1538.29284   \n",
      "0.5   1532.31193        -32.33   1535.28060         -31.95   1538.29363   \n",
      "1.0   1532.31401        -32.54   1535.28047         -31.91   1538.29309   \n",
      "1.5   1532.31249        -32.54   1535.27865         -31.93   1538.29345   \n",
      "2.0   1532.31148        -32.61   1535.28071         -31.94   1538.29406   \n",
      "\n",
      "     Level (db).11  FBG_C1 (nm)  Level (db).12  \n",
      "0.0         -31.19   1539.29820         -27.29  \n",
      "0.5         -31.21   1539.29939         -27.27  \n",
      "1.0         -31.29   1539.29978         -27.13  \n",
      "1.5         -31.39   1539.29967         -27.36  \n",
      "2.0         -31.22   1539.29915         -27.27  \n",
      "\n",
      "[5 rows x 40 columns]\n",
      "                     Timestamp  S-int-1  S-int-2  S-int-3  S-int-4  S-int-5  \\\n",
      "0.0  20/04/2020 14:13:02.44452  -14.889  -13.473  -13.280  -13.470  -13.019   \n",
      "0.5  20/04/2020 14:13:02.64452  -15.003  -13.683  -13.107  -13.409  -13.110   \n",
      "1.0  20/04/2020 14:13:02.84452  -15.116  -13.548  -13.029  -13.474  -13.261   \n",
      "1.5  20/04/2020 14:13:03.04452  -14.811  -13.557  -13.105  -13.461  -13.039   \n",
      "2.0  20/04/2020 14:13:03.24452  -14.950  -13.609  -13.133  -13.555  -13.164   \n",
      "\n",
      "     S-int-6  S-int-7  S-ext-3  S-ext-4  ...  FBG_B4 (nm)  Level (db).8  \\\n",
      "0.0  -12.870  -13.454  -15.896  -15.745  ...   1529.29024        -32.68   \n",
      "0.5  -13.089  -13.628  -15.841  -15.612  ...   1529.29147        -32.79   \n",
      "1.0  -12.981  -13.681  -16.090  -15.779  ...   1529.28993        -32.68   \n",
      "1.5  -12.965  -13.566  -16.074  -16.044  ...   1529.28749        -32.61   \n",
      "2.0  -12.975  -13.664  -15.898  -15.857  ...   1529.28921        -32.77   \n",
      "\n",
      "     FBG_B5 (nm)  Level (db).9  FBG_B6 (nm)  Level (db).10  FBG_B7 (nm)  \\\n",
      "0.0   1532.29633        -32.71   1535.26489         -32.04   1538.28008   \n",
      "0.5   1532.29435        -32.47   1535.26387         -32.15   1538.27832   \n",
      "1.0   1532.29756        -32.56   1535.26422         -31.93   1538.27746   \n",
      "1.5   1532.29642        -32.61   1535.26295         -32.22   1538.27972   \n",
      "2.0   1532.29619        -32.58   1535.26423         -32.03   1538.27903   \n",
      "\n",
      "     Level (db).11  FBG_C1 (nm)  Level (db).12  \n",
      "0.0         -31.49   1539.27892         -28.20  \n",
      "0.5         -31.41   1539.27727         -28.15  \n",
      "1.0         -31.19   1539.27648         -28.24  \n",
      "1.5         -31.49   1539.27590         -28.04  \n",
      "2.0         -31.25   1539.27839         -28.19  \n",
      "\n",
      "[5 rows x 40 columns]\n",
      "                     Timestamp  S-int-1  S-int-2  S-int-3  S-int-4  S-int-5  \\\n",
      "0.0  21/04/2020 11:20:24.15242  -14.028  -12.568  -12.146  -12.517  -12.299   \n",
      "0.5  21/04/2020 11:20:24.35242  -14.235  -12.459  -12.360  -12.534  -12.286   \n",
      "1.0  21/04/2020 11:20:24.55242  -14.045  -12.467  -12.243  -12.683  -11.957   \n",
      "1.5  21/04/2020 11:20:24.75242  -14.077  -12.474  -12.553  -12.628  -12.112   \n",
      "2.0  21/04/2020 11:20:24.95242  -14.133  -12.554  -12.221  -12.405  -12.109   \n",
      "\n",
      "     S-int-6  S-int-7  S-ext-3  S-ext-4  ...  FBG_B4 (nm)  Level (db).8  \\\n",
      "0.0  -11.938  -12.808  -14.982  -14.809  ...   1529.29885        -32.85   \n",
      "0.5  -11.970  -12.859  -15.091  -14.741  ...   1529.29948        -32.65   \n",
      "1.0  -12.081  -12.839  -15.098  -14.906  ...   1529.29796        -32.63   \n",
      "1.5  -11.926  -12.721  -15.226  -15.046  ...   1529.29667        -32.77   \n",
      "2.0  -11.975  -12.772  -15.175  -14.724  ...   1529.29963        -32.78   \n",
      "\n",
      "     FBG_B5 (nm)  Level (db).9  FBG_B6 (nm)  Level (db).10  FBG_B7 (nm)  \\\n",
      "0.0   1532.30462        -32.69   1535.27492         -32.11   1538.28707   \n",
      "0.5   1532.30255        -32.49   1535.27478         -32.01   1538.28668   \n",
      "1.0   1532.30287        -32.46   1535.27460         -32.06   1538.28670   \n",
      "1.5   1532.30370        -32.49   1535.27313         -32.08   1538.28757   \n",
      "2.0   1532.30342        -32.64   1535.27508         -32.11   1538.28575   \n",
      "\n",
      "     Level (db).11  FBG_C1 (nm)  Level (db).12  \n",
      "0.0         -31.11   1539.28878         -27.61  \n",
      "0.5         -31.24   1539.28828         -27.55  \n",
      "1.0         -31.39   1539.28781         -27.61  \n",
      "1.5         -31.40   1539.28923         -27.70  \n",
      "2.0         -31.30   1539.28952         -27.68  \n",
      "\n",
      "[5 rows x 40 columns]\n",
      "                     Timestamp  S-int-1  S-int-2  S-int-3  S-int-4  S-int-5  \\\n",
      "0.0  20/04/2020 14:32:32.59615  -12.093  -10.938  -10.616  -10.665  -10.086   \n",
      "0.5  20/04/2020 14:32:32.79615  -12.143  -10.921  -10.516  -10.575  -10.103   \n",
      "1.0  20/04/2020 14:32:32.99615  -12.426  -10.950  -10.776  -10.729  -10.138   \n",
      "1.5  20/04/2020 14:32:33.19615  -12.260  -10.863  -10.583  -10.798  -10.143   \n",
      "2.0  20/04/2020 14:32:33.39615  -12.279  -10.897  -10.777  -10.767  -10.057   \n",
      "\n",
      "     S-int-6  S-int-7  S-ext-3  S-ext-4  ...  FBG_B4 (nm)  Level (db).8  \\\n",
      "0.0  -10.043  -11.091  -13.542  -13.565  ...   1529.31028        -32.77   \n",
      "0.5   -9.838  -11.123  -13.491  -13.516  ...   1529.31073        -32.79   \n",
      "1.0   -9.755  -11.166  -13.699  -13.389  ...   1529.31189        -32.78   \n",
      "1.5   -9.804  -11.084  -13.436  -13.547  ...   1529.31044        -32.89   \n",
      "2.0   -9.790  -11.224  -13.642  -13.595  ...   1529.31000        -32.72   \n",
      "\n",
      "     FBG_B5 (nm)  Level (db).9  FBG_B6 (nm)  Level (db).10  FBG_B7 (nm)  \\\n",
      "0.0   1532.31545        -32.64   1535.28372         -32.18   1538.29970   \n",
      "0.5   1532.31628        -32.64   1535.28598         -32.11   1538.29994   \n",
      "1.0   1532.31553        -32.59   1535.28551         -32.17   1538.30008   \n",
      "1.5   1532.31516        -32.57   1535.28589         -32.11   1538.29943   \n",
      "2.0   1532.31607        -32.53   1535.28613         -32.10   1538.29939   \n",
      "\n",
      "     Level (db).11  FBG_C1 (nm)  Level (db).12  \n",
      "0.0         -31.41   1539.30982         -27.92  \n",
      "0.5         -31.28   1539.30937         -28.00  \n",
      "1.0         -31.29   1539.31151         -28.00  \n",
      "1.5         -31.34   1539.31033         -28.06  \n",
      "2.0         -31.32   1539.31170         -27.96  \n",
      "\n",
      "[5 rows x 40 columns]\n",
      "                     Timestamp  S-int-1  S-int-2  S-int-3  S-int-4  S-int-5  \\\n",
      "0.0  20/04/2020 14:02:39.86364  -13.455  -12.440  -12.092  -12.259  -11.808   \n",
      "0.5  20/04/2020 14:02:40.06364  -13.695  -12.465  -12.062  -12.316  -11.959   \n",
      "1.0  20/04/2020 14:02:40.26364  -13.845  -12.630  -12.068  -12.261  -11.873   \n",
      "1.5  20/04/2020 14:02:40.46364  -13.580  -12.194  -11.939  -12.482  -11.798   \n",
      "2.0  20/04/2020 14:02:40.66364  -13.436  -12.566  -12.202  -12.309  -11.751   \n",
      "\n",
      "     S-int-6  S-int-7  S-ext-3  S-ext-4  ...  FBG_B4 (nm)  Level (db).8  \\\n",
      "0.0  -11.707  -12.636  -15.056  -14.837  ...   1529.29859        -32.64   \n",
      "0.5  -11.485  -12.517  -14.902  -14.908  ...   1529.29794        -32.78   \n",
      "1.0  -11.668  -12.537  -15.099  -14.816  ...   1529.29879        -32.72   \n",
      "1.5  -11.459  -12.684  -14.726  -14.797  ...   1529.29896        -32.68   \n",
      "2.0  -11.753  -12.467  -15.107  -14.673  ...   1529.30010        -32.71   \n",
      "\n",
      "     FBG_B5 (nm)  Level (db).9  FBG_B6 (nm)  Level (db).10  FBG_B7 (nm)  \\\n",
      "0.0   1532.30350        -32.46   1535.27461         -32.03   1538.28735   \n",
      "0.5   1532.30299        -32.77   1535.27304         -32.24   1538.28775   \n",
      "1.0   1532.30418        -32.46   1535.27448         -32.10   1538.28684   \n",
      "1.5   1532.30388        -32.53   1535.27367         -32.24   1538.28765   \n",
      "2.0   1532.30455        -32.51   1535.27432         -32.13   1538.28876   \n",
      "\n",
      "     Level (db).11  FBG_C1 (nm)  Level (db).12  \n",
      "0.0         -31.23   1539.28366         -28.38  \n",
      "0.5         -31.39   1539.28696         -28.18  \n",
      "1.0         -31.32   1539.28475         -28.29  \n",
      "1.5         -31.46   1539.28416         -28.14  \n",
      "2.0         -31.30   1539.28866         -28.19  \n",
      "\n"
     ]
    },
    {
     "name": "stdout",
     "output_type": "stream",
     "text": [
      "[5 rows x 40 columns]\n",
      "                     Timestamp  S-int-1  S-int-2  S-int-3  S-int-4  S-int-5  \\\n",
      "0.0  21/04/2020 11:10:57.02162  -15.177  -13.226  -12.587  -13.177  -12.620   \n",
      "0.5  21/04/2020 11:10:57.22162  -15.184  -13.083  -12.650  -13.233  -12.708   \n",
      "1.0  21/04/2020 11:10:57.42162  -15.065  -13.215  -12.855  -13.130  -12.837   \n",
      "1.5  21/04/2020 11:10:57.62162  -14.920  -13.157  -12.540  -13.066  -12.787   \n",
      "2.0  21/04/2020 11:10:57.82162  -14.971  -13.104  -12.719  -13.128  -12.828   \n",
      "\n",
      "     S-int-6  S-int-7  S-ext-3  S-ext-4  ...  FBG_B4 (nm)  Level (db).8  \\\n",
      "0.0  -12.525  -13.328  -15.585  -15.526  ...   1529.29226        -32.54   \n",
      "0.5  -12.326  -13.212  -15.502  -15.530  ...   1529.29222        -32.64   \n",
      "1.0  -12.522  -13.340  -15.790  -15.459  ...   1529.29287        -32.75   \n",
      "1.5  -12.559  -13.401  -15.538  -15.279  ...   1529.29453        -32.46   \n",
      "2.0  -12.589  -13.379  -15.491  -15.564  ...   1529.29191        -32.72   \n",
      "\n",
      "     FBG_B5 (nm)  Level (db).9  FBG_B6 (nm)  Level (db).10  FBG_B7 (nm)  \\\n",
      "0.0   1532.29998        -32.52   1535.26877         -31.94   1538.28045   \n",
      "0.5   1532.30084        -32.59   1535.26956         -32.08   1538.28361   \n",
      "1.0   1532.30137        -32.39   1535.26885         -32.11   1538.28327   \n",
      "1.5   1532.30041        -32.40   1535.26865         -31.92   1538.28130   \n",
      "2.0   1532.30081        -32.35   1535.26762         -31.97   1538.28155   \n",
      "\n",
      "     Level (db).11  FBG_C1 (nm)  Level (db).12  \n",
      "0.0         -31.09   1539.28291         -27.72  \n",
      "0.5         -31.27   1539.28406         -27.65  \n",
      "1.0         -31.03   1539.28506         -27.66  \n",
      "1.5         -31.22   1539.28550         -27.72  \n",
      "2.0         -31.14   1539.28371         -27.70  \n",
      "\n",
      "[5 rows x 40 columns]\n",
      "                     Timestamp  S-int-1  S-int-2  S-int-3  S-int-4  S-int-5  \\\n",
      "0.0  20/04/2020 14:23:10.78537  -13.384  -11.355  -10.812  -11.121  -10.738   \n",
      "0.5  20/04/2020 14:23:10.98537  -13.315  -11.239  -10.958  -11.278  -10.691   \n",
      "1.0  20/04/2020 14:23:11.18537  -13.120  -11.089  -10.819  -11.222  -10.437   \n",
      "1.5  20/04/2020 14:23:11.38537  -13.415  -11.479  -11.052  -11.044  -10.438   \n",
      "2.0  20/04/2020 14:23:11.58537  -13.280  -11.294  -10.979  -11.178  -10.548   \n",
      "\n",
      "     S-int-6  S-int-7  S-ext-3  S-ext-4  ...  FBG_B4 (nm)  Level (db).8  \\\n",
      "0.0  -10.532  -11.640  -14.806  -14.626  ...   1529.30054        -32.72   \n",
      "0.5  -10.133  -11.453  -14.921  -14.832  ...   1529.29864        -32.78   \n",
      "1.0  -10.114  -11.448  -14.757  -14.903  ...   1529.29799        -32.74   \n",
      "1.5  -10.190  -11.348  -14.602  -14.813  ...   1529.29881        -32.77   \n",
      "2.0  -10.093  -11.494  -14.870  -14.551  ...   1529.30123        -32.76   \n",
      "\n",
      "     FBG_B5 (nm)  Level (db).9  FBG_B6 (nm)  Level (db).10  FBG_B7 (nm)  \\\n",
      "0.0   1532.30786        -32.54   1535.27680         -32.04   1538.28962   \n",
      "0.5   1532.30632        -32.61   1535.27644         -32.02   1538.29025   \n",
      "1.0   1532.30581        -32.61   1535.27672         -32.18   1538.29016   \n",
      "1.5   1532.30585        -32.58   1535.27638         -32.15   1538.29056   \n",
      "2.0   1532.30481        -32.60   1535.27707         -32.10   1538.28931   \n",
      "\n",
      "     Level (db).11  FBG_C1 (nm)  Level (db).12  \n",
      "0.0         -31.38   1539.28726         -27.97  \n",
      "0.5         -31.48   1539.28764         -28.03  \n",
      "1.0         -31.41   1539.28722         -27.98  \n",
      "1.5         -31.40   1539.28710         -27.97  \n",
      "2.0         -31.31   1539.28719         -28.01  \n",
      "\n",
      "[5 rows x 40 columns]\n",
      "                    Unnamed: 0  S-int-1  S-int-2  S-int-3  S-int-4  S-int-5  \\\n",
      "0.0  20/04/2020 13:50:52.25265  -14.156  -13.628  -13.396  -13.464  -13.152   \n",
      "0.5  20/04/2020 13:50:52.45265  -14.318  -13.686  -13.610  -13.427  -13.159   \n",
      "1.0  20/04/2020 13:50:52.65265  -14.310  -13.538  -13.843  -13.442  -13.140   \n",
      "1.5  20/04/2020 13:50:52.85265  -14.135  -13.710  -13.480  -13.610  -13.108   \n",
      "2.0  20/04/2020 13:50:53.05265  -14.145  -13.602  -13.559  -13.382  -12.865   \n",
      "\n",
      "     S-int-6  S-int-7  S-ext-3  S-ext-4  ...  FBG_B4 (nm)  Level (db).8  \\\n",
      "0.0  -13.366  -13.398  -15.514  -15.249  ...   1529.29481        -32.51   \n",
      "0.5  -13.278  -13.580  -15.462  -15.208  ...   1529.29518        -32.71   \n",
      "1.0  -13.344  -13.430  -15.341  -15.273  ...   1529.29458        -32.52   \n",
      "1.5  -13.302  -13.609  -15.457  -15.296  ...   1529.29437        -32.75   \n",
      "2.0  -13.219  -13.715  -15.370  -15.123  ...   1529.29596        -32.57   \n",
      "\n",
      "     FBG_B5 (nm)  Level (db).9  FBG_B6 (nm)  Level (db).10  FBG_B7 (nm)  \\\n",
      "0.0   1532.30115        -32.52   1535.26582         -31.99   1538.28396   \n",
      "0.5   1532.29922        -32.58   1535.26707         -32.09   1538.28250   \n",
      "1.0   1532.30043        -32.42   1535.26630         -32.04   1538.28433   \n",
      "1.5   1532.29958        -32.57   1535.26727         -32.06   1538.28248   \n",
      "2.0   1532.30238        -32.47   1535.26638         -31.97   1538.28373   \n",
      "\n",
      "     Level (db).11  FBG_C1 (nm)  Level (db).12  \n",
      "0.0         -31.32   1539.29393         -28.25  \n",
      "0.5         -31.22   1539.29591         -28.38  \n",
      "1.0         -31.29   1539.29511         -28.29  \n",
      "1.5         -31.30   1539.29425         -28.27  \n",
      "2.0         -31.28   1539.29298         -28.31  \n",
      "\n",
      "[5 rows x 40 columns]\n"
     ]
    }
   ],
   "source": [
    "#crea un diccionario\n",
    "ensayos={}\n",
    "#hace un bucle dentro de archivos\n",
    "for archivo in archivos:\n",
    "    #abre el archivo 'archivo' dentro de la carpeta rime con lectura (r)\n",
    "    file = open('rime//'+archivo,'r')\n",
    "    texto = file.readlines()\n",
    "    file.close()\n",
    "    primera_linea = int(texto[0])\n",
    "    file = open('temporal.txt','w')\n",
    "    for i in range(primera_linea-1,len(texto)):\n",
    "        file.write(texto[i])\n",
    "    file.close()\n",
    "    df = pd.read_csv('temporal.txt',decimal=',',sep='\\t')\n",
    "    df.index=df.index*0.5\n",
    "    ensayos.update({archivo[:19]:df})\n",
    "    print(df.head())"
   ]
  },
  {
   "cell_type": "code",
   "execution_count": 16,
   "metadata": {},
   "outputs": [
    {
     "name": "stdout",
     "output_type": "stream",
     "text": [
      "                       Timestamp  S-int-1  S-int-2  S-int-3  S-int-4  S-int-5  \\\n",
      "0.0    21/04/2020 11:29:32.80318  -13.284  -11.492  -11.271  -11.477  -10.871   \n",
      "0.5    21/04/2020 11:29:33.00318  -13.210  -11.464  -10.977  -11.425  -11.016   \n",
      "1.0    21/04/2020 11:29:33.20318  -13.167  -11.637  -11.318  -11.485  -10.993   \n",
      "1.5    21/04/2020 11:29:33.40318  -13.062  -11.564  -11.003  -11.373  -10.750   \n",
      "2.0    21/04/2020 11:29:33.60318  -13.104  -11.456  -11.404  -11.589  -11.030   \n",
      "...                          ...      ...      ...      ...      ...      ...   \n",
      "505.5  21/04/2020 11:32:55.00318  -14.507  -13.533  -13.363  -13.607  -13.155   \n",
      "506.0  21/04/2020 11:32:55.20318  -14.740  -13.491  -13.421  -13.701  -13.239   \n",
      "506.5  21/04/2020 11:32:55.40318  -14.583  -13.677  -13.357  -13.757  -13.266   \n",
      "507.0  21/04/2020 11:32:55.60318  -14.570  -13.729  -13.383  -13.654  -13.341   \n",
      "507.5  21/04/2020 11:32:55.80318  -14.558  -13.637  -13.373  -13.685  -13.465   \n",
      "\n",
      "       S-int-6  S-int-7  S-ext-3  S-ext-4  ...  FBG_B6 (nm)  Level (db).10  \\\n",
      "0.0    -10.647  -11.678  -14.631  -14.219  ...   1535.28024         -31.96   \n",
      "0.5    -10.610  -11.531  -14.382  -14.323  ...   1535.28108         -32.15   \n",
      "1.0    -10.729  -11.529  -14.375  -14.110  ...   1535.27992         -31.99   \n",
      "1.5    -10.640  -11.671  -14.311  -14.057  ...   1535.28170         -31.88   \n",
      "2.0    -10.838  -11.610  -14.549  -14.204  ...   1535.27890         -32.02   \n",
      "...        ...      ...      ...      ...  ...          ...            ...   \n",
      "505.5  -12.950  -12.660  -15.369  -15.318  ...   1535.26810         -31.95   \n",
      "506.0  -13.048  -12.678  -15.432  -15.410  ...   1535.26804         -32.11   \n",
      "506.5  -13.122  -12.677  -15.395  -15.422  ...   1535.26828         -31.79   \n",
      "507.0  -13.079  -12.846  -15.365  -15.236  ...   1535.26915         -32.00   \n",
      "507.5  -13.043  -12.729  -15.339  -15.244  ...   1535.26830         -31.83   \n",
      "\n",
      "       FBG_B7 (nm)  Level (db).11  FBG_C1 (nm)  Level (db).12  Delta4  Delta5  \\\n",
      "0.0     1538.29251         -31.10   1539.29491         -27.70   0.412   0.296   \n",
      "0.5     1538.29400         -31.15   1539.29638         -27.55   0.059   0.253   \n",
      "1.0     1538.29322         -31.25   1539.29856         -27.64   0.265   0.333   \n",
      "1.5     1538.29202         -31.23   1539.29565         -27.54   0.254   0.172   \n",
      "2.0     1538.29402         -31.27   1539.29684         -27.65   0.345   0.329   \n",
      "...            ...            ...          ...            ...     ...     ...   \n",
      "505.5   1538.28146         -31.21   1539.28430         -27.75   0.051   0.056   \n",
      "506.0   1538.28129         -31.24   1539.28404         -27.78   0.022   0.030   \n",
      "506.5   1538.28196         -31.27   1539.28530         -27.62  -0.027   0.052   \n",
      "507.0   1538.27963         -31.30   1539.28470         -27.71   0.129  -0.117   \n",
      "507.5   1538.28127         -31.35   1539.28521         -27.74   0.095  -0.102   \n",
      "\n",
      "       Delta6  Delta7  \n",
      "0.0     0.633   0.905  \n",
      "0.5     0.474   0.820  \n",
      "1.0     0.342   0.727  \n",
      "1.5     0.469   0.530  \n",
      "2.0     0.406   0.989  \n",
      "...       ...     ...  \n",
      "505.5   0.064   0.423  \n",
      "506.0   0.121   0.467  \n",
      "506.5   0.110   0.504  \n",
      "507.0   0.173   0.217  \n",
      "507.5   0.056   0.372  \n",
      "\n",
      "[1016 rows x 44 columns]\n"
     ]
    },
    {
     "data": {
      "text/plain": [
       "<matplotlib.axes._subplots.AxesSubplot at 0x2385d769788>"
      ]
     },
     "execution_count": 16,
     "metadata": {},
     "output_type": "execute_result"
    },
    {
     "data": {
      "image/png": "[encoded data removed]",
      "text/plain": [
       "<Figure size 432x288 with 1 Axes>"
      ]
     },
     "metadata": {
      "needs_background": "light"
     },
     "output_type": "display_data"
    }
   ],
   "source": [
    "for archivo in archivos:\n",
    "    df = ensayos[archivo[:19]]\n",
    "    for sensor in range(4,8):\n",
    "        nombre_sensor = 'S-ext-'+str(sensor)\n",
    "        nombre_delta_T = 'Delta'+str(sensor)\n",
    "        df[nombre_delta_T] = df[nombre_sensor]-df['S-ext-3']\n",
    "    ensayos[archivo[:19]] = df\n",
    "print(ensayos['P2,3 en IWT-70ms_4A'])  \n",
    "ensayos['P2,3 en IWT-70ms_4A']['Delta7'].plot()"
   ]
  },
  {
   "cell_type": "code",
   "execution_count": 34,
   "metadata": {},
   "outputs": [
    {
     "name": "stdout",
     "output_type": "stream",
     "text": [
      "0.0      0.905\n",
      "0.5      0.820\n",
      "1.0      0.727\n",
      "1.5      0.530\n",
      "2.0      0.989\n",
      "         ...  \n",
      "505.5    0.423\n",
      "506.0    0.467\n",
      "506.5    0.504\n",
      "507.0    0.217\n",
      "507.5    0.372\n",
      "Name: Delta7, Length: 1016, dtype: float64\n",
      "[0.905 0.82  0.727 ... 0.504 0.217 0.372]\n"
     ]
    },
    {
     "data": {
      "text/plain": [
       "[<matplotlib.lines.Line2D at 0x2385fa5b288>]"
      ]
     },
     "execution_count": 34,
     "metadata": {},
     "output_type": "execute_result"
    },
    {
     "data": {
      "image/png": "[encoded data removed]",
      "text/plain": [
       "<Figure size 432x288 with 1 Axes>"
      ]
     },
     "metadata": {
      "needs_background": "light"
     },
     "output_type": "display_data"
    }
   ],
   "source": [
    "#savgol_filter(x, 5, 2)\n",
    "print(ensayos['P2,3 en IWT-70ms_4A']['Delta7'])\n",
    "Temperatura = np.array(ensayos['P2,3 en IWT-70ms_4A']['Delta7'])\n",
    "print(Temperatura)\n",
    "Temperatura_filtrada = savgol_filter(Temperatura, 101, 5)\n",
    "plt.figure()\n",
    "plt.plot(Temperatura_filtrada)\n"
   ]
  },
  {
   "cell_type": "code",
   "execution_count": 37,
   "metadata": {},
   "outputs": [
    {
     "data": {
      "text/plain": [
       "<matplotlib.axes._subplots.AxesSubplot at 0x2385fb17dc8>"
      ]
     },
     "execution_count": 37,
     "metadata": {},
     "output_type": "execute_result"
    },
    {
     "data": {
      "image/png": "[encoded data removed]",
      "text/plain": [
       "<Figure size 432x288 with 1 Axes>"
      ]
     },
     "metadata": {
      "needs_background": "light"
     },
     "output_type": "display_data"
    }
   ],
   "source": [
    "for archivo in archivos:\n",
    "    df = ensayos[archivo[:19]]\n",
    "    for sensor in range(4,8):\n",
    "        nombre_delta_T = 'Delta'+str(sensor)\n",
    "        nombre_delta_filtrada = 'DeltaF'+str(sensor)\n",
    "        Temperatura = np.array(df[nombre_delta_T])\n",
    "        df[nombre_delta_filtrada] = savgol_filter(Temperatura, 101, 5)\n",
    "    ensayos[archivo[:19]] = df\n",
    "ensayos['P2,3 en IWT-70ms_4A']['DeltaF6'].plot()"
   ]
  },
  {
   "cell_type": "code",
   "execution_count": null,
   "metadata": {},
   "outputs": [],
   "source": []
  }
 ],
 "metadata": {
  "kernelspec": {
   "display_name": "Python 3.7.7 64-bit",
   "language": "python",
   "name": "python37764bit4966b52684c0433bbfcb8e9e6a1cf68c"
  },
  "language_info": {
   "codemirror_mode": {
    "name": "ipython",
    "version": 3
   },
   "file_extension": ".py",
   "mimetype": "text/x-python",
   "name": "python",
   "nbconvert_exporter": "python",
   "pygments_lexer": "ipython3",
   "version": "3.7.7"
  }
 },
 "nbformat": 4,
 "nbformat_minor": 4
}
